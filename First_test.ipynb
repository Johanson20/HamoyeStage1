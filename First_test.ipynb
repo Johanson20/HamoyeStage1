{
 "cells": [
  {
   "cell_type": "code",
   "execution_count": 1,
   "metadata": {
    "collapsed": true
   },
   "outputs": [],
   "source": [
    "import numpy as np\n",
    "import pandas as pd"
   ]
  },
  {
   "cell_type": "code",
   "execution_count": 2,
   "metadata": {
    "collapsed": true
   },
   "outputs": [],
   "source": [
    "A = [1,2,3,4,5,6]\n",
    "B = [13, 21, 34]"
   ]
  },
  {
   "cell_type": "code",
   "execution_count": 3,
   "metadata": {},
   "outputs": [
    {
     "data": {
      "text/plain": [
       "[1, 2, 3, 4, 5, 6, [13, 21, 34]]"
      ]
     },
     "execution_count": 3,
     "metadata": {},
     "output_type": "execute_result"
    }
   ],
   "source": [
    "A.append(B)\n",
    "A"
   ]
  },
  {
   "cell_type": "code",
   "execution_count": 4,
   "metadata": {
    "collapsed": true
   },
   "outputs": [],
   "source": [
    "A = [1,2,3,4,5,6]\n",
    "A.extend(B)"
   ]
  },
  {
   "cell_type": "code",
   "execution_count": 5,
   "metadata": {},
   "outputs": [
    {
     "data": {
      "text/plain": [
       "[1, 2, 3, 4, 5, 6, 13, 21, 34]"
      ]
     },
     "execution_count": 5,
     "metadata": {},
     "output_type": "execute_result"
    }
   ],
   "source": [
    "A"
   ]
  },
  {
   "cell_type": "code",
   "execution_count": 6,
   "metadata": {
    "collapsed": true
   },
   "outputs": [],
   "source": [
    "A = [1,2,3,4,5,6]"
   ]
  },
  {
   "cell_type": "code",
   "execution_count": 7,
   "metadata": {},
   "outputs": [
    {
     "data": {
      "text/plain": [
       "[1, 2, 3, 4, 5, 6]"
      ]
     },
     "execution_count": 7,
     "metadata": {},
     "output_type": "execute_result"
    }
   ],
   "source": [
    "A"
   ]
  },
  {
   "cell_type": "code",
   "execution_count": 8,
   "metadata": {},
   "outputs": [
    {
     "data": {
      "text/plain": [
       "array([[ 1.,  0.,  0.],\n",
       "       [ 0.,  1.,  0.],\n",
       "       [ 0.,  0.,  1.]])"
      ]
     },
     "execution_count": 8,
     "metadata": {},
     "output_type": "execute_result"
    }
   ],
   "source": [
    "np.identity(3)"
   ]
  },
  {
   "cell_type": "code",
   "execution_count": 9,
   "metadata": {},
   "outputs": [
    {
     "data": {
      "text/plain": [
       "Index(['cord_id', 'utility_id_ferc1', 'report_year', 'plant_name_ferc1',\n",
       "       'fuel_type_code_pudl', 'fuel_unit', 'fuel_qty_burned',\n",
       "       'fuel_mmbtu_per_unit', 'fuel_cost_per_unit_burned',\n",
       "       'fuel_cost_per_unit_delivered', 'fuel_cost_per_mmbtu', 'Unnamed: 11'],\n",
       "      dtype='object')"
      ]
     },
     "execution_count": 9,
     "metadata": {},
     "output_type": "execute_result"
    }
   ],
   "source": [
    "fueldata = pd.read_csv('fuel_ferc1.csv')\n",
    "fueldata.columns"
   ]
  },
  {
   "cell_type": "code",
   "execution_count": 10,
   "metadata": {},
   "outputs": [
    {
     "data": {
      "text/plain": [
       "fuel_type_code_pudl\n",
       "coal         67.424889\n",
       "gas          13.660770\n",
       "nuclear    4955.157323\n",
       "oil         168.877398\n",
       "other        18.254311\n",
       "waste        19.518299\n",
       "Name: fuel_cost_per_unit_burned, dtype: float64"
      ]
     },
     "execution_count": 10,
     "metadata": {},
     "output_type": "execute_result"
    }
   ],
   "source": [
    "a = fueldata.groupby('fuel_type_code_pudl')['fuel_cost_per_unit_burned'].mean()\n",
    "a"
   ]
  },
  {
   "cell_type": "code",
   "execution_count": 11,
   "metadata": {},
   "outputs": [
    {
     "data": {
      "text/plain": [
       "count    29521.00\n",
       "mean         8.49\n",
       "std         10.60\n",
       "min          0.00\n",
       "25%          1.02\n",
       "50%          5.76\n",
       "75%         17.01\n",
       "max        341.26\n",
       "Name: fuel_mmbtu_per_unit, dtype: float64"
      ]
     },
     "execution_count": 11,
     "metadata": {},
     "output_type": "execute_result"
    }
   ],
   "source": [
    "fueldata['fuel_mmbtu_per_unit'].describe().round(2)"
   ]
  },
  {
   "cell_type": "code",
   "execution_count": 12,
   "metadata": {
    "collapsed": true
   },
   "outputs": [],
   "source": [
    "b = fueldata['fuel_qty_burned']"
   ]
  },
  {
   "cell_type": "code",
   "execution_count": 13,
   "metadata": {},
   "outputs": [
    {
     "data": {
      "text/plain": [
       "15.85"
      ]
     },
     "execution_count": 13,
     "metadata": {},
     "output_type": "execute_result"
    }
   ],
   "source": [
    "b.skew().round(2)"
   ]
  },
  {
   "cell_type": "code",
   "execution_count": 14,
   "metadata": {},
   "outputs": [
    {
     "data": {
      "text/plain": [
       "651.33000000000004"
      ]
     },
     "execution_count": 14,
     "metadata": {},
     "output_type": "execute_result"
    }
   ],
   "source": [
    "b.kurtosis().round(2)"
   ]
  },
  {
   "cell_type": "code",
   "execution_count": 15,
   "metadata": {},
   "outputs": [
    {
     "name": "stdout",
     "output_type": "stream",
     "text": [
      "Unnamed: 11 29521 100.0\n"
     ]
    }
   ],
   "source": [
    "for col in fueldata.columns:\n",
    "    if fueldata[col].isnull().all():\n",
    "        a = fueldata[col].isnull().count()\n",
    "        print(col, a, round(a/len(fueldata)*100, 3))"
   ]
  },
  {
   "cell_type": "code",
   "execution_count": 16,
   "metadata": {},
   "outputs": [
    {
     "data": {
      "text/html": [
       "<div>\n",
       "<style>\n",
       "    .dataframe thead tr:only-child th {\n",
       "        text-align: right;\n",
       "    }\n",
       "\n",
       "    .dataframe thead th {\n",
       "        text-align: left;\n",
       "    }\n",
       "\n",
       "    .dataframe tbody tr th {\n",
       "        vertical-align: top;\n",
       "    }\n",
       "</style>\n",
       "<table border=\"1\" class=\"dataframe\">\n",
       "  <thead>\n",
       "    <tr style=\"text-align: right;\">\n",
       "      <th></th>\n",
       "      <th>cord_id</th>\n",
       "      <th>utility_id_ferc1</th>\n",
       "      <th>report_year</th>\n",
       "      <th>plant_name_ferc1</th>\n",
       "      <th>fuel_type_code_pudl</th>\n",
       "      <th>fuel_unit</th>\n",
       "      <th>fuel_qty_burned</th>\n",
       "      <th>fuel_mmbtu_per_unit</th>\n",
       "      <th>fuel_cost_per_unit_burned</th>\n",
       "      <th>fuel_cost_per_unit_delivered</th>\n",
       "      <th>fuel_cost_per_mmbtu</th>\n",
       "      <th>Unnamed: 11</th>\n",
       "    </tr>\n",
       "  </thead>\n",
       "  <tbody>\n",
       "    <tr>\n",
       "      <th>0</th>\n",
       "      <td>f1_fuel_1994_12_1_0_7</td>\n",
       "      <td>1.0</td>\n",
       "      <td>1994.0</td>\n",
       "      <td>rockport</td>\n",
       "      <td>coal</td>\n",
       "      <td>ton</td>\n",
       "      <td>5377489.0</td>\n",
       "      <td>16.59</td>\n",
       "      <td>18.59</td>\n",
       "      <td>18.53</td>\n",
       "      <td>1.12</td>\n",
       "      <td>NaN</td>\n",
       "    </tr>\n",
       "    <tr>\n",
       "      <th>1</th>\n",
       "      <td>f1_fuel_1994_12_1_0_10</td>\n",
       "      <td>1.0</td>\n",
       "      <td>1994.0</td>\n",
       "      <td>rockport total plant</td>\n",
       "      <td>coal</td>\n",
       "      <td>ton</td>\n",
       "      <td>10486945.0</td>\n",
       "      <td>16.59</td>\n",
       "      <td>18.58</td>\n",
       "      <td>18.53</td>\n",
       "      <td>1.12</td>\n",
       "      <td>NaN</td>\n",
       "    </tr>\n",
       "    <tr>\n",
       "      <th>2</th>\n",
       "      <td>f1_fuel_1994_12_2_0_1</td>\n",
       "      <td>2.0</td>\n",
       "      <td>1994.0</td>\n",
       "      <td>gorgas</td>\n",
       "      <td>coal</td>\n",
       "      <td>ton</td>\n",
       "      <td>2978683.0</td>\n",
       "      <td>24.13</td>\n",
       "      <td>39.72</td>\n",
       "      <td>38.12</td>\n",
       "      <td>1.65</td>\n",
       "      <td>NaN</td>\n",
       "    </tr>\n",
       "    <tr>\n",
       "      <th>3</th>\n",
       "      <td>f1_fuel_1994_12_2_0_7</td>\n",
       "      <td>2.0</td>\n",
       "      <td>1994.0</td>\n",
       "      <td>barry</td>\n",
       "      <td>coal</td>\n",
       "      <td>ton</td>\n",
       "      <td>3739484.0</td>\n",
       "      <td>23.95</td>\n",
       "      <td>47.21</td>\n",
       "      <td>45.99</td>\n",
       "      <td>1.97</td>\n",
       "      <td>NaN</td>\n",
       "    </tr>\n",
       "    <tr>\n",
       "      <th>4</th>\n",
       "      <td>f1_fuel_1994_12_2_0_10</td>\n",
       "      <td>2.0</td>\n",
       "      <td>1994.0</td>\n",
       "      <td>chickasaw</td>\n",
       "      <td>gas</td>\n",
       "      <td>mcf</td>\n",
       "      <td>40533.0</td>\n",
       "      <td>1.00</td>\n",
       "      <td>2.77</td>\n",
       "      <td>2.77</td>\n",
       "      <td>2.57</td>\n",
       "      <td>NaN</td>\n",
       "    </tr>\n",
       "  </tbody>\n",
       "</table>\n",
       "</div>"
      ],
      "text/plain": [
       "                  cord_id  utility_id_ferc1  report_year  \\\n",
       "0   f1_fuel_1994_12_1_0_7               1.0       1994.0   \n",
       "1  f1_fuel_1994_12_1_0_10               1.0       1994.0   \n",
       "2   f1_fuel_1994_12_2_0_1               2.0       1994.0   \n",
       "3   f1_fuel_1994_12_2_0_7               2.0       1994.0   \n",
       "4  f1_fuel_1994_12_2_0_10               2.0       1994.0   \n",
       "\n",
       "       plant_name_ferc1 fuel_type_code_pudl fuel_unit  fuel_qty_burned  \\\n",
       "0              rockport                coal       ton        5377489.0   \n",
       "1  rockport total plant                coal       ton       10486945.0   \n",
       "2                gorgas                coal       ton        2978683.0   \n",
       "3                 barry                coal       ton        3739484.0   \n",
       "4             chickasaw                 gas       mcf          40533.0   \n",
       "\n",
       "   fuel_mmbtu_per_unit  fuel_cost_per_unit_burned  \\\n",
       "0                16.59                      18.59   \n",
       "1                16.59                      18.58   \n",
       "2                24.13                      39.72   \n",
       "3                23.95                      47.21   \n",
       "4                 1.00                       2.77   \n",
       "\n",
       "   fuel_cost_per_unit_delivered  fuel_cost_per_mmbtu  Unnamed: 11  \n",
       "0                         18.53                 1.12          NaN  \n",
       "1                         18.53                 1.12          NaN  \n",
       "2                         38.12                 1.65          NaN  \n",
       "3                         45.99                 1.97          NaN  \n",
       "4                          2.77                 2.57          NaN  "
      ]
     },
     "execution_count": 16,
     "metadata": {},
     "output_type": "execute_result"
    }
   ],
   "source": [
    "fueldata.head()"
   ]
  },
  {
   "cell_type": "code",
   "execution_count": 17,
   "metadata": {
    "collapsed": true
   },
   "outputs": [],
   "source": [
    "sam = fueldata.groupby('fuel_cost_per_unit_burned')"
   ]
  },
  {
   "cell_type": "code",
   "execution_count": 18,
   "metadata": {},
   "outputs": [
    {
     "name": "stdout",
     "output_type": "stream",
     "text": [
      "cord_id object\n",
      "utility_id_ferc1 float64\n",
      "report_year float64\n",
      "plant_name_ferc1 object\n",
      "fuel_type_code_pudl object\n",
      "fuel_unit object\n",
      "fuel_qty_burned float64\n",
      "fuel_mmbtu_per_unit float64\n",
      "fuel_cost_per_unit_burned float64\n",
      "fuel_cost_per_unit_delivered float64\n",
      "fuel_cost_per_mmbtu float64\n",
      "Unnamed: 11 float64\n"
     ]
    }
   ],
   "source": [
    "for col in fueldata.columns:\n",
    "    print(col, fueldata[col].dtype)"
   ]
  },
  {
   "cell_type": "code",
   "execution_count": 19,
   "metadata": {},
   "outputs": [
    {
     "data": {
      "text/plain": [
       "utility_id_ferc1               -0.037864\n",
       "report_year                     0.013593\n",
       "fuel_qty_burned                -0.018536\n",
       "fuel_mmbtu_per_unit            -0.010023\n",
       "fuel_cost_per_unit_burned       1.000000\n",
       "fuel_cost_per_unit_delivered    0.011007\n",
       "fuel_cost_per_mmbtu            -0.000437\n",
       "Unnamed: 11                          NaN\n",
       "Name: fuel_cost_per_unit_burned, dtype: float64"
      ]
     },
     "execution_count": 19,
     "metadata": {},
     "output_type": "execute_result"
    }
   ],
   "source": [
    "fueldata.corr().loc['fuel_cost_per_unit_burned']"
   ]
  },
  {
   "cell_type": "code",
   "execution_count": 20,
   "metadata": {},
   "outputs": [
    {
     "name": "stdout",
     "output_type": "stream",
     "text": [
      "report_year\n",
      "1994.0     14940.53\n",
      "1995.0     14571.88\n",
      "1996.0     12694.89\n",
      "1997.0     43742.31\n",
      "1998.0     11902.76\n",
      "1999.0     16303.66\n",
      "2000.0    100428.99\n",
      "2001.0     15109.22\n",
      "2002.0      9171.28\n",
      "2003.0     30954.23\n",
      "2004.0      9632.13\n",
      "2005.0     11107.22\n",
      "2006.0     12402.76\n",
      "2007.0     12965.32\n",
      "2008.0     14331.44\n",
      "2009.0     45554.99\n",
      "2010.0     88627.90\n",
      "2011.0     17001.16\n",
      "2012.0     17546.14\n",
      "2013.0     17630.00\n",
      "2014.0     15412.28\n",
      "2015.0     13338.33\n",
      "2016.0     11101.00\n",
      "2017.0     10254.35\n",
      "2018.0      9488.33\n",
      "Name: fuel_cost_per_unit_burned, dtype: float64\n"
     ]
    }
   ],
   "source": [
    "res = fueldata.groupby(['fuel_type_code_pudl', 'report_year'])['fuel_cost_per_unit_burned'].sum()\n",
    "yrs = res.loc['coal']\n",
    "print(yrs)"
   ]
  },
  {
   "cell_type": "code",
   "execution_count": 21,
   "metadata": {},
   "outputs": [
    {
     "data": {
      "text/plain": [
       "-20.332411233068704"
      ]
     },
     "execution_count": 21,
     "metadata": {},
     "output_type": "execute_result"
    }
   ],
   "source": [
    "yr1 = yrs[1994.0]\n",
    "yr2 = yrs[1998.0]\n",
    "(yr2 - yr1)/yr1 * 100"
   ]
  },
  {
   "cell_type": "code",
   "execution_count": 22,
   "metadata": {},
   "outputs": [
    {
     "data": {
      "text/plain": [
       "Index(['cord_id', 'utility_id_ferc1', 'report_year', 'plant_name_ferc1',\n",
       "       'fuel_type_code_pudl', 'fuel_unit', 'fuel_qty_burned',\n",
       "       'fuel_mmbtu_per_unit', 'fuel_cost_per_unit_burned',\n",
       "       'fuel_cost_per_unit_delivered', 'fuel_cost_per_mmbtu', 'Unnamed: 11'],\n",
       "      dtype='object')"
      ]
     },
     "execution_count": 22,
     "metadata": {},
     "output_type": "execute_result"
    }
   ],
   "source": [
    "fueldata.columns"
   ]
  },
  {
   "cell_type": "code",
   "execution_count": 23,
   "metadata": {},
   "outputs": [
    {
     "data": {
      "text/plain": [
       "fuel_cost_per_unit_delivered\n",
       "-874.94        2008.0\n",
       "-488.05        2007.0\n",
       "-313.41        2004.0\n",
       "-174.67        2000.0\n",
       "-170.19        2015.0\n",
       "-118.34        2003.0\n",
       "-93.47         2013.0\n",
       "-91.90         2012.0\n",
       "-85.64         1995.0\n",
       "-62.29         2008.0\n",
       "-60.29         2002.0\n",
       "-58.80         1994.0\n",
       "-53.56         1995.0\n",
       "-44.05         1996.0\n",
       "-43.75         1998.0\n",
       "-43.42         2011.0\n",
       "-42.29         1995.0\n",
       "-41.50         1996.0\n",
       "-40.73         2016.0\n",
       "-40.20         2002.0\n",
       "-38.97         1997.0\n",
       "-37.79         2001.0\n",
       "-35.38         1994.0\n",
       "-34.85         2003.0\n",
       "-32.97         1999.0\n",
       "-31.50         2005.0\n",
       "-30.04         2004.0\n",
       "-24.30         2006.0\n",
       "-17.01         2000.0\n",
       "-14.24         2000.0\n",
       "                ...  \n",
       " 16378.32      2014.0\n",
       " 26340.00      2000.0\n",
       " 26714.00      1998.0\n",
       " 29303.00      2000.0\n",
       " 31416.00      2002.0\n",
       " 34381.00      2001.0\n",
       " 34518.00      2003.0\n",
       " 41497.00      2000.0\n",
       " 42249.00      2000.0\n",
       " 44033.32      2010.0\n",
       " 45115.00      1994.0\n",
       " 69440.00      2016.0\n",
       " 72916.00      2015.0\n",
       " 76656.00      1996.0\n",
       " 88419.00      2018.0\n",
       " 92484.00      2018.0\n",
       " 94096.00      2015.0\n",
       " 132884.00     2004.0\n",
       " 135315.00     2013.0\n",
       " 136410.00     2014.0\n",
       " 140706.00     2015.0\n",
       " 245652.00     2018.0\n",
       " 270604.00     1998.0\n",
       " 730166.00     2009.0\n",
       " 1168000.00    2000.0\n",
       " 1942979.00    1997.0\n",
       " 2114508.00    1996.0\n",
       " 2255688.00    1997.0\n",
       " 7793482.00    1996.0\n",
       " 7964521.00    1997.0\n",
       "Name: report_year, Length: 8434, dtype: float64"
      ]
     },
     "execution_count": 23,
     "metadata": {},
     "output_type": "execute_result"
    }
   ],
   "source": [
    "max1 = fueldata.groupby('fuel_cost_per_unit_delivered')['report_year'].max()\n",
    "max1"
   ]
  },
  {
   "cell_type": "code",
   "execution_count": null,
   "metadata": {
    "collapsed": true
   },
   "outputs": [],
   "source": []
  }
 ],
 "metadata": {
  "kernelspec": {
   "display_name": "Python 3",
   "language": "python",
   "name": "python3"
  },
  "language_info": {
   "codemirror_mode": {
    "name": "ipython",
    "version": 3
   },
   "file_extension": ".py",
   "mimetype": "text/x-python",
   "name": "python",
   "nbconvert_exporter": "python",
   "pygments_lexer": "ipython3",
   "version": "3.6.3"
  }
 },
 "nbformat": 4,
 "nbformat_minor": 2
}
